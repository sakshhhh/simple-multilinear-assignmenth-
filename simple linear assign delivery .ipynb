{
 "cells": [
  {
   "cell_type": "code",
   "execution_count": 4,
   "id": "63d56ffd",
   "metadata": {},
   "outputs": [],
   "source": [
    "from sklearn.metrics import r2_score\n",
    "from sklearn.model_selection import train_test_split \n",
    "import statsmodels.formula.api as smf\n",
    "import matplotlib.pyplot as plt \n",
    "import seaborn as sns\n",
    "import pandas as pd \n",
    "import numpy as np \n",
    "import warnings \n",
    "warnings.filterwarnings('ignore')"
   ]
  },
  {
   "cell_type": "code",
   "execution_count": 5,
   "id": "29c99963",
   "metadata": {},
   "outputs": [],
   "source": [
    "deliveryData = pd.read_csv('delivery_time.csv')"
   ]
  },
  {
   "cell_type": "code",
   "execution_count": 6,
   "id": "1ce37f6a",
   "metadata": {},
   "outputs": [
    {
     "data": {
      "text/html": [
       "<div>\n",
       "<style scoped>\n",
       "    .dataframe tbody tr th:only-of-type {\n",
       "        vertical-align: middle;\n",
       "    }\n",
       "\n",
       "    .dataframe tbody tr th {\n",
       "        vertical-align: top;\n",
       "    }\n",
       "\n",
       "    .dataframe thead th {\n",
       "        text-align: right;\n",
       "    }\n",
       "</style>\n",
       "<table border=\"1\" class=\"dataframe\">\n",
       "  <thead>\n",
       "    <tr style=\"text-align: right;\">\n",
       "      <th></th>\n",
       "      <th>Delivery Time</th>\n",
       "      <th>Sorting Time</th>\n",
       "    </tr>\n",
       "  </thead>\n",
       "  <tbody>\n",
       "    <tr>\n",
       "      <th>0</th>\n",
       "      <td>21.00</td>\n",
       "      <td>10</td>\n",
       "    </tr>\n",
       "    <tr>\n",
       "      <th>1</th>\n",
       "      <td>13.50</td>\n",
       "      <td>4</td>\n",
       "    </tr>\n",
       "    <tr>\n",
       "      <th>2</th>\n",
       "      <td>19.75</td>\n",
       "      <td>6</td>\n",
       "    </tr>\n",
       "    <tr>\n",
       "      <th>3</th>\n",
       "      <td>24.00</td>\n",
       "      <td>9</td>\n",
       "    </tr>\n",
       "    <tr>\n",
       "      <th>4</th>\n",
       "      <td>29.00</td>\n",
       "      <td>10</td>\n",
       "    </tr>\n",
       "  </tbody>\n",
       "</table>\n",
       "</div>"
      ],
      "text/plain": [
       "   Delivery Time  Sorting Time\n",
       "0          21.00            10\n",
       "1          13.50             4\n",
       "2          19.75             6\n",
       "3          24.00             9\n",
       "4          29.00            10"
      ]
     },
     "execution_count": 6,
     "metadata": {},
     "output_type": "execute_result"
    }
   ],
   "source": [
    "deliveryData.head()\n",
    "# concluding from problem statement\n",
    "# 'Sorting Time' is feature\n",
    "# 'Delivery Time' is target"
   ]
  },
  {
   "cell_type": "code",
   "execution_count": 7,
   "id": "5e9eeb3f",
   "metadata": {},
   "outputs": [
    {
     "name": "stdout",
     "output_type": "stream",
     "text": [
      "<class 'pandas.core.frame.DataFrame'>\n",
      "RangeIndex: 21 entries, 0 to 20\n",
      "Data columns (total 2 columns):\n",
      " #   Column         Non-Null Count  Dtype  \n",
      "---  ------         --------------  -----  \n",
      " 0   Delivery Time  21 non-null     float64\n",
      " 1   Sorting Time   21 non-null     int64  \n",
      "dtypes: float64(1), int64(1)\n",
      "memory usage: 464.0 bytes\n"
     ]
    }
   ],
   "source": [
    "deliveryData.info()\n",
    "# both columns are of numerical dtype\n",
    "# no null values present\n",
    "# implies no need to perform imputation "
   ]
  },
  {
   "cell_type": "code",
   "execution_count": 8,
   "id": "84ffd599",
   "metadata": {},
   "outputs": [
    {
     "data": {
      "text/html": [
       "<div>\n",
       "<style scoped>\n",
       "    .dataframe tbody tr th:only-of-type {\n",
       "        vertical-align: middle;\n",
       "    }\n",
       "\n",
       "    .dataframe tbody tr th {\n",
       "        vertical-align: top;\n",
       "    }\n",
       "\n",
       "    .dataframe thead th {\n",
       "        text-align: right;\n",
       "    }\n",
       "</style>\n",
       "<table border=\"1\" class=\"dataframe\">\n",
       "  <thead>\n",
       "    <tr style=\"text-align: right;\">\n",
       "      <th></th>\n",
       "      <th>Delivery Time</th>\n",
       "      <th>Sorting Time</th>\n",
       "    </tr>\n",
       "  </thead>\n",
       "  <tbody>\n",
       "    <tr>\n",
       "      <th>count</th>\n",
       "      <td>21.000000</td>\n",
       "      <td>21.000000</td>\n",
       "    </tr>\n",
       "    <tr>\n",
       "      <th>mean</th>\n",
       "      <td>16.790952</td>\n",
       "      <td>6.190476</td>\n",
       "    </tr>\n",
       "    <tr>\n",
       "      <th>std</th>\n",
       "      <td>5.074901</td>\n",
       "      <td>2.542028</td>\n",
       "    </tr>\n",
       "    <tr>\n",
       "      <th>min</th>\n",
       "      <td>8.000000</td>\n",
       "      <td>2.000000</td>\n",
       "    </tr>\n",
       "    <tr>\n",
       "      <th>25%</th>\n",
       "      <td>13.500000</td>\n",
       "      <td>4.000000</td>\n",
       "    </tr>\n",
       "    <tr>\n",
       "      <th>50%</th>\n",
       "      <td>17.830000</td>\n",
       "      <td>6.000000</td>\n",
       "    </tr>\n",
       "    <tr>\n",
       "      <th>75%</th>\n",
       "      <td>19.750000</td>\n",
       "      <td>8.000000</td>\n",
       "    </tr>\n",
       "    <tr>\n",
       "      <th>max</th>\n",
       "      <td>29.000000</td>\n",
       "      <td>10.000000</td>\n",
       "    </tr>\n",
       "  </tbody>\n",
       "</table>\n",
       "</div>"
      ],
      "text/plain": [
       "       Delivery Time  Sorting Time\n",
       "count      21.000000     21.000000\n",
       "mean       16.790952      6.190476\n",
       "std         5.074901      2.542028\n",
       "min         8.000000      2.000000\n",
       "25%        13.500000      4.000000\n",
       "50%        17.830000      6.000000\n",
       "75%        19.750000      8.000000\n",
       "max        29.000000     10.000000"
      ]
     },
     "execution_count": 8,
     "metadata": {},
     "output_type": "execute_result"
    }
   ],
   "source": [
    "deliveryData.describe()\n",
    "# inspecting moments"
   ]
  },
  {
   "cell_type": "code",
   "execution_count": 9,
   "id": "0288b1f7",
   "metadata": {},
   "outputs": [],
   "source": [
    "# storing feature data in X\n",
    "X = deliveryData[['Sorting Time']]"
   ]
  },
  {
   "cell_type": "code",
   "execution_count": 10,
   "id": "30d274f0",
   "metadata": {},
   "outputs": [],
   "source": [
    "# storing target data in Y\n",
    "Y = deliveryData[['Delivery Time']]"
   ]
  },
  {
   "cell_type": "code",
   "execution_count": null,
   "id": "6c1f4c33",
   "metadata": {},
   "outputs": [],
   "source": []
  },
  {
   "cell_type": "code",
   "execution_count": 11,
   "id": "022129d5",
   "metadata": {},
   "outputs": [
    {
     "data": {
      "image/png": "[encoded data removed]",
      "text/plain": [
       "<Figure size 640x480 with 1 Axes>"
      ]
     },
     "metadata": {},
     "output_type": "display_data"
    }
   ],
   "source": [
    "# Graphical univariate analysis on feature dataset\n",
    "sns.distplot(X,kde=True)\n",
    "plt.xlabel('Sorting Time')\n",
    "plt.title('Graphical univariate analysis on feature dataset')\n",
    "plt.show()\n",
    "# graphically distribution seems normal \n",
    "# no outliers present "
   ]
  },
  {
   "cell_type": "code",
   "execution_count": null,
   "id": "8860c4cd",
   "metadata": {},
   "outputs": [],
   "source": []
  },
  {
   "cell_type": "code",
   "execution_count": 12,
   "id": "b07bde7c",
   "metadata": {},
   "outputs": [
    {
     "data": {
      "image/png": "[encoded data removed]",
      "text/plain": [
       "<Figure size 640x480 with 1 Axes>"
      ]
     },
     "metadata": {},
     "output_type": "display_data"
    }
   ],
   "source": [
    "# Graphical univariate analysis on target dataset\n",
    "sns.distplot(Y,kde=True)\n",
    "plt.xlabel('Delivery Time')\n",
    "plt.title('Graphical univariate analysis on target dataset')\n",
    "plt.show()\n",
    "# graphically distribution seems right skewed\n",
    "# no outliers present "
   ]
  },
  {
   "cell_type": "code",
   "execution_count": 13,
   "id": "b4c374f6",
   "metadata": {},
   "outputs": [
    {
     "data": {
      "image/png": "[encoded data removed]",
      "text/plain": [
       "<Figure size 640x480 with 2 Axes>"
      ]
     },
     "metadata": {},
     "output_type": "display_data"
    }
   ],
   "source": [
    "# bivariate analysis\n",
    "# checking for correlation between variables\n",
    "sns.heatmap(deliveryData.corr(),annot=True)\n",
    "plt.show()\n",
    "# there exists correlation between feature and target"
   ]
  },
  {
   "cell_type": "code",
   "execution_count": null,
   "id": "e199cb4f",
   "metadata": {},
   "outputs": [],
   "source": []
  },
  {
   "cell_type": "code",
   "execution_count": 14,
   "id": "4eaa5a0f",
   "metadata": {},
   "outputs": [
    {
     "data": {
      "text/plain": [
       "Sorting Time    0.047115\n",
       "dtype: float64"
      ]
     },
     "execution_count": 14,
     "metadata": {},
     "output_type": "execute_result"
    }
   ],
   "source": [
    "# quantifying skewness of feature dataset \n",
    "X.skew()\n",
    "# since skewness of feature is considerably small \n",
    "# no need to perform transformation "
   ]
  },
  {
   "cell_type": "code",
   "execution_count": 15,
   "id": "179b1cdc",
   "metadata": {},
   "outputs": [
    {
     "data": {
      "text/plain": [
       "Delivery Time    0.35239\n",
       "dtype: float64"
      ]
     },
     "execution_count": 15,
     "metadata": {},
     "output_type": "execute_result"
    }
   ],
   "source": [
    "# quantifying skewness of target dataset\n",
    "Y.skew()\n",
    "# since skewness of target is considerably high \n",
    "# need to perform transformation "
   ]
  },
  {
   "cell_type": "code",
   "execution_count": 16,
   "id": "f5bcd627",
   "metadata": {},
   "outputs": [],
   "source": [
    "# performing square root transformation on target dataset\n",
    "# to reduce skewness\n",
    "new_Y = Y**0.5 \n",
    "# after making predicions take square of it "
   ]
  },
  {
   "cell_type": "code",
   "execution_count": 17,
   "id": "fb28d372",
   "metadata": {},
   "outputs": [
    {
     "data": {
      "text/plain": [
       "Delivery Time   -0.061811\n",
       "dtype: float64"
      ]
     },
     "execution_count": 17,
     "metadata": {},
     "output_type": "execute_result"
    }
   ],
   "source": [
    "new_Y.skew()\n",
    "# skewness after transformation is reduced  "
   ]
  },
  {
   "cell_type": "code",
   "execution_count": 18,
   "id": "661f7912",
   "metadata": {},
   "outputs": [],
   "source": [
    "# new dataframe of dataset after transformation \n",
    "newData = pd.DataFrame({'Sorting Time':X.values.ravel(),\n",
    "                        'Delivery Time':new_Y.values.ravel()},\n",
    "                         index=deliveryData.index)"
   ]
  },
  {
   "cell_type": "code",
   "execution_count": 19,
   "id": "a60f1353",
   "metadata": {},
   "outputs": [],
   "source": [
    "# making linear regression model using ols\n",
    "# passing new dataframe as data \n",
    "model = smf.ols(formula='Q(\"Delivery Time\") ~ Q(\"Sorting Time\")',\n",
    "               data=newData).fit()"
   ]
  },
  {
   "cell_type": "code",
   "execution_count": 20,
   "id": "f98e72ac",
   "metadata": {},
   "outputs": [
    {
     "data": {
      "text/html": [
       "<table class=\"simpletable\">\n",
       "<caption>OLS Regression Results</caption>\n",
       "<tr>\n",
       "  <th>Dep. Variable:</th>    <td>Q(\"Delivery Time\")</td> <th>  R-squared:         </th> <td>   0.704</td>\n",
       "</tr>\n",
       "<tr>\n",
       "  <th>Model:</th>                    <td>OLS</td>        <th>  Adj. R-squared:    </th> <td>   0.688</td>\n",
       "</tr>\n",
       "<tr>\n",
       "  <th>Method:</th>              <td>Least Squares</td>   <th>  F-statistic:       </th> <td>   45.20</td>\n",
       "</tr>\n",
       "<tr>\n",
       "  <th>Date:</th>              <td>Fri, 21 Oct 2022</td>  <th>  Prob (F-statistic):</th> <td>2.00e-06</td>\n",
       "</tr>\n",
       "<tr>\n",
       "  <th>Time:</th>                  <td>14:25:05</td>      <th>  Log-Likelihood:    </th> <td> -6.6646</td>\n",
       "</tr>\n",
       "<tr>\n",
       "  <th>No. Observations:</th>       <td>    21</td>       <th>  AIC:               </th> <td>   17.33</td>\n",
       "</tr>\n",
       "<tr>\n",
       "  <th>Df Residuals:</th>           <td>    19</td>       <th>  BIC:               </th> <td>   19.42</td>\n",
       "</tr>\n",
       "<tr>\n",
       "  <th>Df Model:</th>               <td>     1</td>       <th>                     </th>     <td> </td>   \n",
       "</tr>\n",
       "<tr>\n",
       "  <th>Covariance Type:</th>       <td>nonrobust</td>     <th>                     </th>     <td> </td>   \n",
       "</tr>\n",
       "</table>\n",
       "<table class=\"simpletable\">\n",
       "<tr>\n",
       "          <td></td>             <th>coef</th>     <th>std err</th>      <th>t</th>      <th>P>|t|</th>  <th>[0.025</th>    <th>0.975]</th>  \n",
       "</tr>\n",
       "<tr>\n",
       "  <th>Intercept</th>         <td>    2.7727</td> <td>    0.205</td> <td>   13.527</td> <td> 0.000</td> <td>    2.344</td> <td>    3.202</td>\n",
       "</tr>\n",
       "<tr>\n",
       "  <th>Q(\"Sorting Time\")</th> <td>    0.2066</td> <td>    0.031</td> <td>    6.723</td> <td> 0.000</td> <td>    0.142</td> <td>    0.271</td>\n",
       "</tr>\n",
       "</table>\n",
       "<table class=\"simpletable\">\n",
       "<tr>\n",
       "  <th>Omnibus:</th>       <td> 2.228</td> <th>  Durbin-Watson:     </th> <td>   1.258</td>\n",
       "</tr>\n",
       "<tr>\n",
       "  <th>Prob(Omnibus):</th> <td> 0.328</td> <th>  Jarque-Bera (JB):  </th> <td>   1.195</td>\n",
       "</tr>\n",
       "<tr>\n",
       "  <th>Skew:</th>          <td> 0.580</td> <th>  Prob(JB):          </th> <td>   0.550</td>\n",
       "</tr>\n",
       "<tr>\n",
       "  <th>Kurtosis:</th>      <td> 3.142</td> <th>  Cond. No.          </th> <td>    18.3</td>\n",
       "</tr>\n",
       "</table><br/><br/>Notes:<br/>[1] Standard Errors assume that the covariance matrix of the errors is correctly specified."
      ],
      "text/plain": [
       "<class 'statsmodels.iolib.summary.Summary'>\n",
       "\"\"\"\n",
       "                            OLS Regression Results                            \n",
       "==============================================================================\n",
       "Dep. Variable:     Q(\"Delivery Time\")   R-squared:                       0.704\n",
       "Model:                            OLS   Adj. R-squared:                  0.688\n",
       "Method:                 Least Squares   F-statistic:                     45.20\n",
       "Date:                Fri, 21 Oct 2022   Prob (F-statistic):           2.00e-06\n",
       "Time:                        14:25:05   Log-Likelihood:                -6.6646\n",
       "No. Observations:                  21   AIC:                             17.33\n",
       "Df Residuals:                      19   BIC:                             19.42\n",
       "Df Model:                           1                                         \n",
       "Covariance Type:            nonrobust                                         \n",
       "=====================================================================================\n",
       "                        coef    std err          t      P>|t|      [0.025      0.975]\n",
       "-------------------------------------------------------------------------------------\n",
       "Intercept             2.7727      0.205     13.527      0.000       2.344       3.202\n",
       "Q(\"Sorting Time\")     0.2066      0.031      6.723      0.000       0.142       0.271\n",
       "==============================================================================\n",
       "Omnibus:                        2.228   Durbin-Watson:                   1.258\n",
       "Prob(Omnibus):                  0.328   Jarque-Bera (JB):                1.195\n",
       "Skew:                           0.580   Prob(JB):                        0.550\n",
       "Kurtosis:                       3.142   Cond. No.                         18.3\n",
       "==============================================================================\n",
       "\n",
       "Notes:\n",
       "[1] Standard Errors assume that the covariance matrix of the errors is correctly specified.\n",
       "\"\"\""
      ]
     },
     "execution_count": 20,
     "metadata": {},
     "output_type": "execute_result"
    }
   ],
   "source": [
    "model.summary()\n",
    "# intercept of best fitted line is 2.7727\n",
    "# feature coefficient in 0.2066\n",
    "# t-statistic of feature and intercept are high and p-value is 0\n",
    "# reject null hypothesis that all the coefficients are 0"
   ]
  },
  {
   "cell_type": "code",
   "execution_count": 21,
   "id": "91047ad5",
   "metadata": {},
   "outputs": [],
   "source": [
    "# storing actual target values in var\n",
    "actual = new_Y.values.ravel()"
   ]
  },
  {
   "cell_type": "code",
   "execution_count": 22,
   "id": "d39de57b",
   "metadata": {},
   "outputs": [],
   "source": [
    "# storing prediction values in var\n",
    "pred = model.predict(X).values"
   ]
  },
  {
   "cell_type": "code",
   "execution_count": 23,
   "id": "8806b63f",
   "metadata": {},
   "outputs": [],
   "source": [
    "result = pd.DataFrame({'Actual':actual,\n",
    "                       'predicted':pred})"
   ]
  },
  {
   "cell_type": "code",
   "execution_count": 24,
   "id": "d907d74d",
   "metadata": {},
   "outputs": [
    {
     "data": {
      "text/html": [
       "<div>\n",
       "<style scoped>\n",
       "    .dataframe tbody tr th:only-of-type {\n",
       "        vertical-align: middle;\n",
       "    }\n",
       "\n",
       "    .dataframe tbody tr th {\n",
       "        vertical-align: top;\n",
       "    }\n",
       "\n",
       "    .dataframe thead th {\n",
       "        text-align: right;\n",
       "    }\n",
       "</style>\n",
       "<table border=\"1\" class=\"dataframe\">\n",
       "  <thead>\n",
       "    <tr style=\"text-align: right;\">\n",
       "      <th></th>\n",
       "      <th>Actual</th>\n",
       "      <th>predicted</th>\n",
       "    </tr>\n",
       "  </thead>\n",
       "  <tbody>\n",
       "    <tr>\n",
       "      <th>0</th>\n",
       "      <td>4.582576</td>\n",
       "      <td>4.839049</td>\n",
       "    </tr>\n",
       "    <tr>\n",
       "      <th>1</th>\n",
       "      <td>3.674235</td>\n",
       "      <td>3.599258</td>\n",
       "    </tr>\n",
       "    <tr>\n",
       "      <th>2</th>\n",
       "      <td>4.444097</td>\n",
       "      <td>4.012522</td>\n",
       "    </tr>\n",
       "    <tr>\n",
       "      <th>3</th>\n",
       "      <td>4.898979</td>\n",
       "      <td>4.632417</td>\n",
       "    </tr>\n",
       "    <tr>\n",
       "      <th>4</th>\n",
       "      <td>5.385165</td>\n",
       "      <td>4.839049</td>\n",
       "    </tr>\n",
       "  </tbody>\n",
       "</table>\n",
       "</div>"
      ],
      "text/plain": [
       "     Actual  predicted\n",
       "0  4.582576   4.839049\n",
       "1  3.674235   3.599258\n",
       "2  4.444097   4.012522\n",
       "3  4.898979   4.632417\n",
       "4  5.385165   4.839049"
      ]
     },
     "execution_count": 24,
     "metadata": {},
     "output_type": "execute_result"
    }
   ],
   "source": [
    "result.head()"
   ]
  },
  {
   "cell_type": "code",
   "execution_count": 25,
   "id": "89fe3014",
   "metadata": {},
   "outputs": [
    {
     "data": {
      "image/png": "[encoded data removed]",
      "text/plain": [
       "<Figure size 640x480 with 1 Axes>"
      ]
     },
     "metadata": {},
     "output_type": "display_data"
    }
   ],
   "source": [
    "# expecting scatter plot to follow 45 degree trend line\n",
    "# if predicted values are same as actual values\n",
    "plt.scatter(actual,pred,\n",
    "           color='red',alpha=0.5)\n",
    "plt.plot([actual.min(),actual.max()],\n",
    "         [pred.min(),pred.max()],color='black',\n",
    "         alpha=0.4,label='45 degree trend line')\n",
    "plt.legend()\n",
    "plt.xlabel('actual')\n",
    "plt.ylabel('predicted')\n",
    "plt.show()\n",
    "# scatter plot seems to follow 45 degree trend line "
   ]
  },
  {
   "cell_type": "code",
   "execution_count": 26,
   "id": "d4b685db",
   "metadata": {},
   "outputs": [],
   "source": [
    "score = r2_score(actual,pred)*100"
   ]
  },
  {
   "cell_type": "code",
   "execution_count": 29,
   "id": "6479720c",
   "metadata": {},
   "outputs": [
    {
     "data": {
      "text/plain": [
       "Intercept            2.772731\n",
       "Q(\"Sorting Time\")    0.206632\n",
       "dtype: float64"
      ]
     },
     "execution_count": 29,
     "metadata": {},
     "output_type": "execute_result"
    }
   ],
   "source": [
    "model.params"
   ]
  },
  {
   "cell_type": "code",
   "execution_count": 35,
   "id": "50a41364",
   "metadata": {},
   "outputs": [],
   "source": [
    "beta = model.params.Intercept\n",
    "eps = model.params['Q(\"Sorting Time\")']"
   ]
  },
  {
   "cell_type": "code",
   "execution_count": 37,
   "id": "fa27123a",
   "metadata": {},
   "outputs": [
    {
     "name": "stdout",
     "output_type": "stream",
     "text": [
      "model training accuracy is : 70.40 %\n"
     ]
    }
   ],
   "source": [
    "# evaluating model preformance using r2score \n",
    "print('model training accuracy is : %.2f %%' % score)"
   ]
  },
  {
   "cell_type": "code",
   "execution_count": 39,
   "id": "100702c5",
   "metadata": {},
   "outputs": [],
   "source": [
    "# built simple linear regression model \n",
    "# with 70.40% accuracy score on 'training dataset' \n",
    "# 'Y' is delivery_time(target)\n",
    "# 'X' is 'sorting_time'(feature)\n",
    "Y = (beta*X + eps)**2"
   ]
  },
  {
   "cell_type": "code",
   "execution_count": null,
   "id": "2ce2900e",
   "metadata": {},
   "outputs": [],
   "source": []
  },
  {
   "cell_type": "code",
   "execution_count": null,
   "id": "ca9efca6",
   "metadata": {},
   "outputs": [],
   "source": []
  },
  {
   "cell_type": "code",
   "execution_count": null,
   "id": "e4c3e3ea",
   "metadata": {
    "scrolled": true
   },
   "outputs": [],
   "source": []
  },
  {
   "cell_type": "code",
   "execution_count": null,
   "id": "962c041d",
   "metadata": {},
   "outputs": [],
   "source": []
  },
  {
   "cell_type": "code",
   "execution_count": null,
   "id": "affa771f",
   "metadata": {},
   "outputs": [],
   "source": []
  },
  {
   "cell_type": "code",
   "execution_count": null,
   "id": "3199d42b",
   "metadata": {},
   "outputs": [],
   "source": []
  }
 ],
 "metadata": {
  "kernelspec": {
   "display_name": "Python 3 (ipykernel)",
   "language": "python",
   "name": "python3"
  },
  "language_info": {
   "codemirror_mode": {
    "name": "ipython",
    "version": 3
   },
   "file_extension": ".py",
   "mimetype": "text/x-python",
   "name": "python",
   "nbconvert_exporter": "python",
   "pygments_lexer": "ipython3",
   "version": "3.9.12"
  }
 },
 "nbformat": 4,
 "nbformat_minor": 5
}
