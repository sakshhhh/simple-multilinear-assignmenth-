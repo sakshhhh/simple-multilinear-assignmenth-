{
 "cells": [
  {
   "cell_type": "code",
   "execution_count": 40,
   "id": "f0573738",
   "metadata": {},
   "outputs": [],
   "source": [
    "from sklearn.metrics import mean_squared_error, r2_score\n",
    "from sklearn.model_selection import train_test_split \n",
    "from sklearn.metrics import mean_squared_error\n",
    "import statsmodels.formula.api as smf\n",
    "import matplotlib.pyplot as plt \n",
    "import seaborn as sns\n",
    "import pandas as pd \n",
    "import numpy as np \n",
    "import warnings \n",
    "warnings.filterwarnings('ignore')"
   ]
  },
  {
   "cell_type": "code",
   "execution_count": 4,
   "id": "076871fa",
   "metadata": {},
   "outputs": [],
   "source": [
    "salaryData = pd.read_csv('Salary_Data.csv')"
   ]
  },
  {
   "cell_type": "code",
   "execution_count": 5,
   "id": "21d75171",
   "metadata": {},
   "outputs": [
    {
     "data": {
      "text/html": [
       "<div>\n",
       "<style scoped>\n",
       "    .dataframe tbody tr th:only-of-type {\n",
       "        vertical-align: middle;\n",
       "    }\n",
       "\n",
       "    .dataframe tbody tr th {\n",
       "        vertical-align: top;\n",
       "    }\n",
       "\n",
       "    .dataframe thead th {\n",
       "        text-align: right;\n",
       "    }\n",
       "</style>\n",
       "<table border=\"1\" class=\"dataframe\">\n",
       "  <thead>\n",
       "    <tr style=\"text-align: right;\">\n",
       "      <th></th>\n",
       "      <th>YearsExperience</th>\n",
       "      <th>Salary</th>\n",
       "    </tr>\n",
       "  </thead>\n",
       "  <tbody>\n",
       "    <tr>\n",
       "      <th>0</th>\n",
       "      <td>1.1</td>\n",
       "      <td>39343.0</td>\n",
       "    </tr>\n",
       "    <tr>\n",
       "      <th>1</th>\n",
       "      <td>1.3</td>\n",
       "      <td>46205.0</td>\n",
       "    </tr>\n",
       "    <tr>\n",
       "      <th>2</th>\n",
       "      <td>1.5</td>\n",
       "      <td>37731.0</td>\n",
       "    </tr>\n",
       "    <tr>\n",
       "      <th>3</th>\n",
       "      <td>2.0</td>\n",
       "      <td>43525.0</td>\n",
       "    </tr>\n",
       "    <tr>\n",
       "      <th>4</th>\n",
       "      <td>2.2</td>\n",
       "      <td>39891.0</td>\n",
       "    </tr>\n",
       "  </tbody>\n",
       "</table>\n",
       "</div>"
      ],
      "text/plain": [
       "   YearsExperience   Salary\n",
       "0              1.1  39343.0\n",
       "1              1.3  46205.0\n",
       "2              1.5  37731.0\n",
       "3              2.0  43525.0\n",
       "4              2.2  39891.0"
      ]
     },
     "execution_count": 5,
     "metadata": {},
     "output_type": "execute_result"
    }
   ],
   "source": [
    "salaryData.head()\n",
    "# concluding from problem statement\n",
    "# 'YearsExperience' is feature\n",
    "# 'Salary' is target"
   ]
  },
  {
   "cell_type": "code",
   "execution_count": 6,
   "id": "167dccb5",
   "metadata": {},
   "outputs": [
    {
     "name": "stdout",
     "output_type": "stream",
     "text": [
      "<class 'pandas.core.frame.DataFrame'>\n",
      "RangeIndex: 30 entries, 0 to 29\n",
      "Data columns (total 2 columns):\n",
      " #   Column           Non-Null Count  Dtype  \n",
      "---  ------           --------------  -----  \n",
      " 0   YearsExperience  30 non-null     float64\n",
      " 1   Salary           30 non-null     float64\n",
      "dtypes: float64(2)\n",
      "memory usage: 608.0 bytes\n"
     ]
    }
   ],
   "source": [
    "salaryData.info()\n",
    "# both columns are of numerical dtype\n",
    "# no null values present\n",
    "# implies no need to perform imputation "
   ]
  },
  {
   "cell_type": "code",
   "execution_count": 7,
   "id": "f8bc5c8f",
   "metadata": {},
   "outputs": [
    {
     "data": {
      "text/html": [
       "<div>\n",
       "<style scoped>\n",
       "    .dataframe tbody tr th:only-of-type {\n",
       "        vertical-align: middle;\n",
       "    }\n",
       "\n",
       "    .dataframe tbody tr th {\n",
       "        vertical-align: top;\n",
       "    }\n",
       "\n",
       "    .dataframe thead th {\n",
       "        text-align: right;\n",
       "    }\n",
       "</style>\n",
       "<table border=\"1\" class=\"dataframe\">\n",
       "  <thead>\n",
       "    <tr style=\"text-align: right;\">\n",
       "      <th></th>\n",
       "      <th>YearsExperience</th>\n",
       "      <th>Salary</th>\n",
       "    </tr>\n",
       "  </thead>\n",
       "  <tbody>\n",
       "    <tr>\n",
       "      <th>count</th>\n",
       "      <td>30.000000</td>\n",
       "      <td>30.000000</td>\n",
       "    </tr>\n",
       "    <tr>\n",
       "      <th>mean</th>\n",
       "      <td>5.313333</td>\n",
       "      <td>76003.000000</td>\n",
       "    </tr>\n",
       "    <tr>\n",
       "      <th>std</th>\n",
       "      <td>2.837888</td>\n",
       "      <td>27414.429785</td>\n",
       "    </tr>\n",
       "    <tr>\n",
       "      <th>min</th>\n",
       "      <td>1.100000</td>\n",
       "      <td>37731.000000</td>\n",
       "    </tr>\n",
       "    <tr>\n",
       "      <th>25%</th>\n",
       "      <td>3.200000</td>\n",
       "      <td>56720.750000</td>\n",
       "    </tr>\n",
       "    <tr>\n",
       "      <th>50%</th>\n",
       "      <td>4.700000</td>\n",
       "      <td>65237.000000</td>\n",
       "    </tr>\n",
       "    <tr>\n",
       "      <th>75%</th>\n",
       "      <td>7.700000</td>\n",
       "      <td>100544.750000</td>\n",
       "    </tr>\n",
       "    <tr>\n",
       "      <th>max</th>\n",
       "      <td>10.500000</td>\n",
       "      <td>122391.000000</td>\n",
       "    </tr>\n",
       "  </tbody>\n",
       "</table>\n",
       "</div>"
      ],
      "text/plain": [
       "       YearsExperience         Salary\n",
       "count        30.000000      30.000000\n",
       "mean          5.313333   76003.000000\n",
       "std           2.837888   27414.429785\n",
       "min           1.100000   37731.000000\n",
       "25%           3.200000   56720.750000\n",
       "50%           4.700000   65237.000000\n",
       "75%           7.700000  100544.750000\n",
       "max          10.500000  122391.000000"
      ]
     },
     "execution_count": 7,
     "metadata": {},
     "output_type": "execute_result"
    }
   ],
   "source": [
    "salaryData.describe()\n",
    "# inspectind moments"
   ]
  },
  {
   "cell_type": "code",
   "execution_count": null,
   "id": "bcfaa564",
   "metadata": {},
   "outputs": [],
   "source": []
  },
  {
   "cell_type": "code",
   "execution_count": 8,
   "id": "f1e78290",
   "metadata": {},
   "outputs": [],
   "source": [
    "# storing feature data in X\n",
    "X = salaryData[['YearsExperience']]"
   ]
  },
  {
   "cell_type": "code",
   "execution_count": 9,
   "id": "58cc81d7",
   "metadata": {},
   "outputs": [],
   "source": [
    "# storing target data in Y\n",
    "Y = salaryData[['Salary']]"
   ]
  },
  {
   "cell_type": "code",
   "execution_count": null,
   "id": "7316e579",
   "metadata": {},
   "outputs": [],
   "source": []
  },
  {
   "cell_type": "code",
   "execution_count": 10,
   "id": "83015b2a",
   "metadata": {},
   "outputs": [
    {
     "data": {
      "image/png": "[encoded data removed]",
      "text/plain": [
       "<Figure size 640x480 with 1 Axes>"
      ]
     },
     "metadata": {},
     "output_type": "display_data"
    }
   ],
   "source": [
    "# Graphical univariate analysis on feature dataset\n",
    "sns.distplot(X,kde=True)\n",
    "plt.xlabel('YearsExperience')\n",
    "plt.title('Graphical univariate analysis on feature dataset')\n",
    "plt.show()\n",
    "# graphically distribution seems right skewed\n",
    "# no outliers present "
   ]
  },
  {
   "cell_type": "code",
   "execution_count": 11,
   "id": "4d533842",
   "metadata": {},
   "outputs": [
    {
     "data": {
      "image/png": "[encoded data removed]",
      "text/plain": [
       "<Figure size 640x480 with 1 Axes>"
      ]
     },
     "metadata": {},
     "output_type": "display_data"
    }
   ],
   "source": [
    "# Graphical univariate analysis on target dataset\n",
    "sns.distplot(Y,kde=True)\n",
    "plt.xlabel('Salary')\n",
    "plt.title('Graphical univariate analysis on target dataset')\n",
    "plt.show()\n",
    "# graphically distribution seems right skewed\n",
    "# no outliers present "
   ]
  },
  {
   "cell_type": "code",
   "execution_count": 12,
   "id": "8ff94753",
   "metadata": {},
   "outputs": [
    {
     "data": {
      "image/png": "[encoded data removed]",
      "text/plain": [
       "<Figure size 640x480 with 2 Axes>"
      ]
     },
     "metadata": {},
     "output_type": "display_data"
    }
   ],
   "source": [
    "# bivariate analysis \n",
    "# checking for correlation between variables\n",
    "sns.heatmap(salaryData.corr(), annot=True)\n",
    "plt.show()\n",
    "# there exists correlation between feature and target"
   ]
  },
  {
   "cell_type": "code",
   "execution_count": 13,
   "id": "4c47e999",
   "metadata": {},
   "outputs": [
    {
     "data": {
      "text/plain": [
       "YearsExperience    0.37956\n",
       "dtype: float64"
      ]
     },
     "execution_count": 13,
     "metadata": {},
     "output_type": "execute_result"
    }
   ],
   "source": [
    "# quantifying skewness of feature dataset \n",
    "X.skew()\n",
    "# since skewness of feature is considerably high \n",
    "# need to perform transformation "
   ]
  },
  {
   "cell_type": "code",
   "execution_count": 14,
   "id": "202646fe",
   "metadata": {},
   "outputs": [
    {
     "data": {
      "text/plain": [
       "Salary    0.35412\n",
       "dtype: float64"
      ]
     },
     "execution_count": 14,
     "metadata": {},
     "output_type": "execute_result"
    }
   ],
   "source": [
    "# quantifying skewness of target dataset \n",
    "Y.skew()\n",
    "# since skewness of feature is considerably high \n",
    "# need to perform transformation "
   ]
  },
  {
   "cell_type": "code",
   "execution_count": null,
   "id": "68ce9d05",
   "metadata": {},
   "outputs": [],
   "source": []
  },
  {
   "cell_type": "code",
   "execution_count": 15,
   "id": "a4ea5579",
   "metadata": {},
   "outputs": [],
   "source": [
    "# performing square root transformation on feature dataset \n",
    "# to reduce skewness\n",
    "new_X = X**0.5"
   ]
  },
  {
   "cell_type": "code",
   "execution_count": 16,
   "id": "83f142f9",
   "metadata": {},
   "outputs": [
    {
     "data": {
      "text/plain": [
       "YearsExperience   -0.049196\n",
       "dtype: float64"
      ]
     },
     "execution_count": 16,
     "metadata": {},
     "output_type": "execute_result"
    }
   ],
   "source": [
    "new_X.skew()\n",
    "# skewness after transformation is reduced "
   ]
  },
  {
   "cell_type": "code",
   "execution_count": 17,
   "id": "c783177f",
   "metadata": {},
   "outputs": [],
   "source": [
    "# performing log transformation on feature dataset \n",
    "# to reduce skewness\n",
    "new_Y = np.log(Y)"
   ]
  },
  {
   "cell_type": "code",
   "execution_count": 18,
   "id": "81b3988c",
   "metadata": {},
   "outputs": [
    {
     "data": {
      "text/plain": [
       "Salary   -0.044126\n",
       "dtype: float64"
      ]
     },
     "execution_count": 18,
     "metadata": {},
     "output_type": "execute_result"
    }
   ],
   "source": [
    "new_Y.skew()\n",
    "# skewness after transformation is reduced "
   ]
  },
  {
   "cell_type": "code",
   "execution_count": 24,
   "id": "e50eb832",
   "metadata": {},
   "outputs": [],
   "source": [
    "# new dataframe of dataset after transformation \n",
    "newData = pd.DataFrame({'YearsExperience':new_X.values.ravel(),\n",
    "                        'Salary':new_Y.values.ravel()},\n",
    "                         index=salaryData.index)"
   ]
  },
  {
   "cell_type": "code",
   "execution_count": 27,
   "id": "c2832f76",
   "metadata": {},
   "outputs": [],
   "source": [
    "# making simle linear regression model using ols \n",
    "# passing new transformed data \n",
    "model = smf.ols(formula='Salary~YearsExperience',\n",
    "               data=newData).fit()"
   ]
  },
  {
   "cell_type": "code",
   "execution_count": 29,
   "id": "19d63be1",
   "metadata": {},
   "outputs": [
    {
     "data": {
      "text/html": [
       "<table class=\"simpletable\">\n",
       "<caption>OLS Regression Results</caption>\n",
       "<tr>\n",
       "  <th>Dep. Variable:</th>         <td>Salary</td>      <th>  R-squared:         </th> <td>   0.943</td>\n",
       "</tr>\n",
       "<tr>\n",
       "  <th>Model:</th>                   <td>OLS</td>       <th>  Adj. R-squared:    </th> <td>   0.941</td>\n",
       "</tr>\n",
       "<tr>\n",
       "  <th>Method:</th>             <td>Least Squares</td>  <th>  F-statistic:       </th> <td>   466.4</td>\n",
       "</tr>\n",
       "<tr>\n",
       "  <th>Date:</th>             <td>Fri, 21 Oct 2022</td> <th>  Prob (F-statistic):</th> <td>5.37e-19</td>\n",
       "</tr>\n",
       "<tr>\n",
       "  <th>Time:</th>                 <td>14:56:56</td>     <th>  Log-Likelihood:    </th> <td>  30.933</td>\n",
       "</tr>\n",
       "<tr>\n",
       "  <th>No. Observations:</th>      <td>    30</td>      <th>  AIC:               </th> <td>  -57.87</td>\n",
       "</tr>\n",
       "<tr>\n",
       "  <th>Df Residuals:</th>          <td>    28</td>      <th>  BIC:               </th> <td>  -55.06</td>\n",
       "</tr>\n",
       "<tr>\n",
       "  <th>Df Model:</th>              <td>     1</td>      <th>                     </th>     <td> </td>   \n",
       "</tr>\n",
       "<tr>\n",
       "  <th>Covariance Type:</th>      <td>nonrobust</td>    <th>                     </th>     <td> </td>   \n",
       "</tr>\n",
       "</table>\n",
       "<table class=\"simpletable\">\n",
       "<tr>\n",
       "         <td></td>            <th>coef</th>     <th>std err</th>      <th>t</th>      <th>P>|t|</th>  <th>[0.025</th>    <th>0.975]</th>  \n",
       "</tr>\n",
       "<tr>\n",
       "  <th>Intercept</th>       <td>    9.9274</td> <td>    0.060</td> <td>  165.502</td> <td> 0.000</td> <td>    9.805</td> <td>   10.050</td>\n",
       "</tr>\n",
       "<tr>\n",
       "  <th>YearsExperience</th> <td>    0.5620</td> <td>    0.026</td> <td>   21.596</td> <td> 0.000</td> <td>    0.509</td> <td>    0.615</td>\n",
       "</tr>\n",
       "</table>\n",
       "<table class=\"simpletable\">\n",
       "<tr>\n",
       "  <th>Omnibus:</th>       <td> 1.111</td> <th>  Durbin-Watson:     </th> <td>   1.658</td>\n",
       "</tr>\n",
       "<tr>\n",
       "  <th>Prob(Omnibus):</th> <td> 0.574</td> <th>  Jarque-Bera (JB):  </th> <td>   0.938</td>\n",
       "</tr>\n",
       "<tr>\n",
       "  <th>Skew:</th>          <td> 0.186</td> <th>  Prob(JB):          </th> <td>   0.626</td>\n",
       "</tr>\n",
       "<tr>\n",
       "  <th>Kurtosis:</th>      <td> 2.218</td> <th>  Cond. No.          </th> <td>    9.97</td>\n",
       "</tr>\n",
       "</table><br/><br/>Notes:<br/>[1] Standard Errors assume that the covariance matrix of the errors is correctly specified."
      ],
      "text/plain": [
       "<class 'statsmodels.iolib.summary.Summary'>\n",
       "\"\"\"\n",
       "                            OLS Regression Results                            \n",
       "==============================================================================\n",
       "Dep. Variable:                 Salary   R-squared:                       0.943\n",
       "Model:                            OLS   Adj. R-squared:                  0.941\n",
       "Method:                 Least Squares   F-statistic:                     466.4\n",
       "Date:                Fri, 21 Oct 2022   Prob (F-statistic):           5.37e-19\n",
       "Time:                        14:56:56   Log-Likelihood:                 30.933\n",
       "No. Observations:                  30   AIC:                            -57.87\n",
       "Df Residuals:                      28   BIC:                            -55.06\n",
       "Df Model:                           1                                         \n",
       "Covariance Type:            nonrobust                                         \n",
       "===================================================================================\n",
       "                      coef    std err          t      P>|t|      [0.025      0.975]\n",
       "-----------------------------------------------------------------------------------\n",
       "Intercept           9.9274      0.060    165.502      0.000       9.805      10.050\n",
       "YearsExperience     0.5620      0.026     21.596      0.000       0.509       0.615\n",
       "==============================================================================\n",
       "Omnibus:                        1.111   Durbin-Watson:                   1.658\n",
       "Prob(Omnibus):                  0.574   Jarque-Bera (JB):                0.938\n",
       "Skew:                           0.186   Prob(JB):                        0.626\n",
       "Kurtosis:                       2.218   Cond. No.                         9.97\n",
       "==============================================================================\n",
       "\n",
       "Notes:\n",
       "[1] Standard Errors assume that the covariance matrix of the errors is correctly specified.\n",
       "\"\"\""
      ]
     },
     "execution_count": 29,
     "metadata": {},
     "output_type": "execute_result"
    }
   ],
   "source": [
    "model.summary()\n",
    "# intercept of best fitted line is 9.9274\n",
    "# feature coefficient is 0.5620\n",
    "# t-statistic of feature and intercept are high and p-value is 0\n",
    "# reject null hypothesis that all the coefficients are 0"
   ]
  },
  {
   "cell_type": "code",
   "execution_count": 30,
   "id": "802d01ba",
   "metadata": {},
   "outputs": [],
   "source": [
    "# storing actual target values in var \n",
    "actual = new_Y.values.ravel()"
   ]
  },
  {
   "cell_type": "code",
   "execution_count": 32,
   "id": "f5d663d9",
   "metadata": {},
   "outputs": [],
   "source": [
    "# storing prediction values in var \n",
    "pred = model.predict(new_X).values"
   ]
  },
  {
   "cell_type": "code",
   "execution_count": 36,
   "id": "9453a655",
   "metadata": {},
   "outputs": [],
   "source": [
    "result = pd.DataFrame({'Actual':actual,\n",
    "                       'predicted':pred})"
   ]
  },
  {
   "cell_type": "code",
   "execution_count": 37,
   "id": "14330743",
   "metadata": {},
   "outputs": [
    {
     "data": {
      "text/html": [
       "<div>\n",
       "<style scoped>\n",
       "    .dataframe tbody tr th:only-of-type {\n",
       "        vertical-align: middle;\n",
       "    }\n",
       "\n",
       "    .dataframe tbody tr th {\n",
       "        vertical-align: top;\n",
       "    }\n",
       "\n",
       "    .dataframe thead th {\n",
       "        text-align: right;\n",
       "    }\n",
       "</style>\n",
       "<table border=\"1\" class=\"dataframe\">\n",
       "  <thead>\n",
       "    <tr style=\"text-align: right;\">\n",
       "      <th></th>\n",
       "      <th>Actual</th>\n",
       "      <th>predicted</th>\n",
       "    </tr>\n",
       "  </thead>\n",
       "  <tbody>\n",
       "    <tr>\n",
       "      <th>0</th>\n",
       "      <td>10.580073</td>\n",
       "      <td>10.516781</td>\n",
       "    </tr>\n",
       "    <tr>\n",
       "      <th>1</th>\n",
       "      <td>10.740843</td>\n",
       "      <td>10.568127</td>\n",
       "    </tr>\n",
       "    <tr>\n",
       "      <th>2</th>\n",
       "      <td>10.538237</td>\n",
       "      <td>10.615653</td>\n",
       "    </tr>\n",
       "    <tr>\n",
       "      <th>3</th>\n",
       "      <td>10.681091</td>\n",
       "      <td>10.722129</td>\n",
       "    </tr>\n",
       "    <tr>\n",
       "      <th>4</th>\n",
       "      <td>10.593906</td>\n",
       "      <td>10.760920</td>\n",
       "    </tr>\n",
       "  </tbody>\n",
       "</table>\n",
       "</div>"
      ],
      "text/plain": [
       "      Actual  predicted\n",
       "0  10.580073  10.516781\n",
       "1  10.740843  10.568127\n",
       "2  10.538237  10.615653\n",
       "3  10.681091  10.722129\n",
       "4  10.593906  10.760920"
      ]
     },
     "execution_count": 37,
     "metadata": {},
     "output_type": "execute_result"
    }
   ],
   "source": [
    "result.head()"
   ]
  },
  {
   "cell_type": "code",
   "execution_count": 38,
   "id": "70e4e9ea",
   "metadata": {},
   "outputs": [
    {
     "data": {
      "image/png": "[encoded data removed]",
      "text/plain": [
       "<Figure size 640x480 with 1 Axes>"
      ]
     },
     "metadata": {},
     "output_type": "display_data"
    }
   ],
   "source": [
    "# expecting scatter plot to follow 45 degree trend line \n",
    "# if predicted values are same as actual values\n",
    "plt.scatter(actual,pred,\n",
    "           color='red',alpha=0.5)\n",
    "plt.plot([actual.min(),actual.max()],\n",
    "         [pred.min(),pred.max()],color='black',\n",
    "         alpha=0.4,label='45 degree trend line')\n",
    "plt.legend()\n",
    "plt.xlabel('actual')\n",
    "plt.ylabel('predicted')\n",
    "plt.show()\n",
    "# scatter plot seems to follow 45 degree trend line "
   ]
  },
  {
   "cell_type": "code",
   "execution_count": 43,
   "id": "cd2ef9fd",
   "metadata": {},
   "outputs": [],
   "source": [
    "score = r2_score(actual,pred)*100"
   ]
  },
  {
   "cell_type": "code",
   "execution_count": 44,
   "id": "5e9620dc",
   "metadata": {},
   "outputs": [
    {
     "data": {
      "text/plain": [
       "Intercept          9.927378\n",
       "YearsExperience    0.561974\n",
       "dtype: float64"
      ]
     },
     "execution_count": 44,
     "metadata": {},
     "output_type": "execute_result"
    }
   ],
   "source": [
    "model.params"
   ]
  },
  {
   "cell_type": "code",
   "execution_count": 45,
   "id": "09162dbd",
   "metadata": {},
   "outputs": [],
   "source": [
    "beta = model.params.Intercept\n",
    "eps = model.params.YearsExperience "
   ]
  },
  {
   "cell_type": "code",
   "execution_count": 48,
   "id": "022f3902",
   "metadata": {},
   "outputs": [
    {
     "name": "stdout",
     "output_type": "stream",
     "text": [
      "model training accuracy is : 94.34 %\n"
     ]
    }
   ],
   "source": [
    "# evaluating model performance using r2score \n",
    "print('model training accuracy is : %.2f %%' % score )"
   ]
  },
  {
   "cell_type": "code",
   "execution_count": 76,
   "id": "1fe1ad11",
   "metadata": {},
   "outputs": [],
   "source": [
    "# built simple linear regression model \n",
    "# with 93.34% accuracy score on 'training dataset'\n",
    "# 'Y' is 'salary'(target)\n",
    "# 'X' is 'years_experience'(feature)\n",
    "Y = np.exp(beta*X**0.5 + eps)"
   ]
  },
  {
   "cell_type": "code",
   "execution_count": null,
   "id": "22df5641",
   "metadata": {},
   "outputs": [],
   "source": []
  },
  {
   "cell_type": "code",
   "execution_count": null,
   "id": "d4b15af7",
   "metadata": {},
   "outputs": [],
   "source": []
  },
  {
   "cell_type": "code",
   "execution_count": null,
   "id": "a8922e41",
   "metadata": {},
   "outputs": [],
   "source": []
  },
  {
   "cell_type": "code",
   "execution_count": null,
   "id": "1facba8c",
   "metadata": {},
   "outputs": [],
   "source": []
  },
  {
   "cell_type": "code",
   "execution_count": null,
   "id": "9c1ee08c",
   "metadata": {},
   "outputs": [],
   "source": []
  },
  {
   "cell_type": "code",
   "execution_count": null,
   "id": "6f04fc35",
   "metadata": {},
   "outputs": [],
   "source": []
  }
 ],
 "metadata": {
  "kernelspec": {
   "display_name": "Python 3 (ipykernel)",
   "language": "python",
   "name": "python3"
  },
  "language_info": {
   "codemirror_mode": {
    "name": "ipython",
    "version": 3
   },
   "file_extension": ".py",
   "mimetype": "text/x-python",
   "name": "python",
   "nbconvert_exporter": "python",
   "pygments_lexer": "ipython3",
   "version": "3.9.12"
  }
 },
 "nbformat": 4,
 "nbformat_minor": 5
}
